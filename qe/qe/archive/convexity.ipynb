{
 "cells": [
  {
   "cell_type": "code",
   "execution_count": 1,
   "id": "8705b721-d233-4c06-8d14-cf86c6843c14",
   "metadata": {},
   "outputs": [],
   "source": [
    "from z3 import Real, And, Or, Not, Solver, Exists, If\n",
    "import z3\n",
    "from typing import List\n",
    "import pandas as pd\n",
    "import numpy as np"
   ]
  },
  {
   "cell_type": "code",
   "execution_count": 2,
   "id": "1c5ac73e-6427-4768-bc42-702f3961832d",
   "metadata": {},
   "outputs": [],
   "source": [
    "def get_raw_value(expr: z3.ExprRef):\n",
    "    try:\n",
    "        if(isinstance(expr, z3.RatNumRef)):\n",
    "            return expr.as_fraction()\n",
    "        elif(isinstance(expr, z3.BoolRef)):\n",
    "            return bool(expr)\n",
    "        elif(isinstance(expr, z3.ArithRef)):\n",
    "            return np.nan\n",
    "        else:\n",
    "            raise NotImplementedError\n",
    "    except z3.z3types.Z3Exception as e:\n",
    "        return np.nan\n",
    "\n",
    "\n",
    "def get_model_value_list(model: z3.ModelRef, l: List[z3.ExprRef]):\n",
    "    ret = []\n",
    "    for var in l:\n",
    "        val = get_raw_value(model.eval(var))\n",
    "        ret.append(val)\n",
    "    return ret"
   ]
  },
  {
   "cell_type": "code",
   "execution_count": 3,
   "id": "fc8dfce4-5b48-45aa-954c-4532822a1c34",
   "metadata": {},
   "outputs": [],
   "source": [
    "class Variables:\n",
    "    def __init__(self, name: str, T: int):\n",
    "        self.T = T\n",
    "        self.A = [Real(f'{name}A_{t}') for t in range(T)]\n",
    "        self.I = [Real(f'{name}I_{t}') for t in range(T)]\n",
    "        self.S = [Real(f'{name}S_{t}') for t in range(T)]\n",
    "        self.L = [Real(f'{name}L_{t}') for t in range(T)]\n",
    "        self.C = Real(f'{name}C')\n",
    "        self.buffer = Real(f'{name}buffer')\n",
    "        \n",
    "    def I_constr(self, s: Solver):\n",
    "        C, A, I, S, L = self.C, self.A, self.I, self.S, self.L\n",
    "        for t in range(1, self.T):\n",
    "            s.add(I[t] <= A[t] - L[t])\n",
    "            s.add(I[t] <= I[t-1] + C)\n",
    "            s.add(Or(I[t] == A[t] - L[t], I[t] == I[t-1] + C))\n",
    "\n",
    "        s.add(I[0] <= A[0] - L[0])\n",
    "    \n",
    "    def S_constr(self, s: Solver):\n",
    "        C, buffer, A, I, S, L = self.C, self.buffer, self.A, self.I, self.S, self.L\n",
    "        s.add(C > 0)\n",
    "        s.add(buffer > 0)\n",
    "        s.add(A[0] >= 0)\n",
    "        s.add(S[0] >= 0)\n",
    "        s.add(L[0] >= 0)\n",
    "\n",
    "        for t in range(self.T):\n",
    "            s.add(S[t] <= I[t])\n",
    "            if t > 0:\n",
    "                s.add(L[t] == If(A[t] - L[t-1] > I[t] + buffer, A[t] - I[t] - buffer, L[t-1]))\n",
    "                s.add(S[t] >= I[t-1])\n",
    "                s.add(A[t] >= A[t-1])\n",
    "                s.add(S[t] >= S[t-1])\n",
    "                s.add(L[t] >= L[t-1])\n",
    "    \n",
    "    def print_vars(self, m):\n",
    "        C, A, I, S, L = self.C, self.A, self.I, self.S, self.L\n",
    "        print(\"C\", m[C], \"buffer\", m[self.buffer])\n",
    "        #for t in range(self.T):\n",
    "        #    if m[I[t]] is None:\n",
    "        #        print(f'A={float(m[A[t]].as_fraction())}\\tI= - \\tS={float(m[S[t]].as_fraction())}')\n",
    "        #    else:\n",
    "        #        print(f'A={float(m[A[t]].as_fraction())}\\tI={float(m[I[t]].as_fraction())}\\tS={float(m[S[t]].as_fraction())}\\tL={float(m[L[t]].as_fraction())}')\n",
    "        #frame = []\n",
    "        #frame['A'] = [float(m[x].as_fraction()) for x in A]\n",
    "        frame = {}\n",
    "        frame['A'] = get_model_value_list(m, A)\n",
    "        frame['I'] = get_model_value_list(m, I)\n",
    "        frame['S'] = get_model_value_list(m, S)\n",
    "        frame['L'] = get_model_value_list(m, L)\n",
    "        df = pd.DataFrame(frame).astype(float)\n",
    "        print(df)"
   ]
  },
  {
   "cell_type": "code",
   "execution_count": 4,
   "id": "529820f9-7780-4b59-811f-39adb91e1527",
   "metadata": {},
   "outputs": [
    {
     "name": "stdout",
     "output_type": "stream",
     "text": [
      "unsat\n"
     ]
    }
   ],
   "source": [
    "T = 3\n",
    "s = Solver()\n",
    "\n",
    "x = Variables('x', T)\n",
    "x.I_constr(s)\n",
    "x.S_constr(s)\n",
    "\n",
    "y = Variables('y', T)\n",
    "y.I_constr(s)\n",
    "y.S_constr(s)\n",
    "\n",
    "dummy_s = Solver()\n",
    "z = Variables('z', T)\n",
    "z.I_constr(dummy_s)\n",
    "z.S_constr(dummy_s)\n",
    "\n",
    "s.add(Not(Exists(z.I, And(*dummy_s.assertions()))))\n",
    "#s.add(Not(And(*dummy_s.assertions())))\n",
    "#z.I_constr(s)\n",
    "\n",
    "for t in range(T):\n",
    "    #s.add(z.A[t] == (x.A[t] + y.A[t]) / 2)\n",
    "    #s.add(z.I[t] == (x.I[t] + y.I[t]) / 2)\n",
    "    #s.add(z.S[t] == (x.S[t] + y.S[t]) / 2)\n",
    "    s.add(And(x.A[t] == y.A[t], y.A[t] == z.A[t]))\n",
    "    s.add(And(x.S[t] == y.S[t], y.S[t] == z.S[t]))\n",
    "    s.add(And(x.L[t] == y.L[t], y.L[t] == z.L[t]))\n",
    "\n",
    "s.add(z.C == (x.C + y.C) / 2)\n",
    "s.add(z.buffer == (x.buffer + y.buffer) / 2)\n",
    "    \n",
    "if False:  \n",
    "    s.add(Or(x.C != y.C, x.buffer != y.buffer))\n",
    "    s.add(z.buffer == (x.buffer + y.buffer) / 2)\n",
    "elif False:\n",
    "    s.add(x.C == y.C)\n",
    "    s.add(x.buffer != y.buffer)\n",
    "else:\n",
    "    s.add(x.C != y.C)\n",
    "    s.add(x.buffer == y.buffer)\n",
    "\n",
    "if False:\n",
    "    s.add(x.C == 1)\n",
    "    s.add(y.C == 3)\n",
    "    s.add(x.A[0] == 0)\n",
    "    s.add(x.buffer == 20)\n",
    "\n",
    "sat = s.check()\n",
    "print(sat)\n",
    "if str(sat) == 'sat':\n",
    "    m = s.model()\n",
    "    x.print_vars(m)\n",
    "    print(\"\")\n",
    "    y.print_vars(m)\n",
    "    print(\"\")\n",
    "    z.print_vars(m)"
   ]
  },
  {
   "cell_type": "code",
   "execution_count": 124,
   "id": "1169024e-acfd-4eba-acd7-9e2ae6278fd0",
   "metadata": {},
   "outputs": [
    {
     "data": {
      "text/plain": [
       "3.5"
      ]
     },
     "execution_count": 124,
     "metadata": {},
     "output_type": "execute_result"
    }
   ],
   "source": [
    "41 - 19 - 37/2"
   ]
  },
  {
   "cell_type": "code",
   "execution_count": 126,
   "id": "df9bedff-ed15-478f-8dde-20b53d2e5add",
   "metadata": {},
   "outputs": [
    {
     "data": {
      "text/plain": [
       "2"
      ]
     },
     "execution_count": 126,
     "metadata": {},
     "output_type": "execute_result"
    }
   ],
   "source": [
    "41 - 19 - 20"
   ]
  },
  {
   "cell_type": "code",
   "execution_count": null,
   "id": "0474f945-ccd3-483e-a7cc-41c055a93f5a",
   "metadata": {},
   "outputs": [],
   "source": []
  }
 ],
 "metadata": {
  "kernelspec": {
   "display_name": "Python 3",
   "language": "python",
   "name": "python3"
  },
  "language_info": {
   "codemirror_mode": {
    "name": "ipython",
    "version": 3
   },
   "file_extension": ".py",
   "mimetype": "text/x-python",
   "name": "python",
   "nbconvert_exporter": "python",
   "pygments_lexer": "ipython3",
   "version": "3.9.16"
  }
 },
 "nbformat": 4,
 "nbformat_minor": 5
}
